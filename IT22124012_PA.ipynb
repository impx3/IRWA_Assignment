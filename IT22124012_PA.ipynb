{
 "cells": [
  {
   "cell_type": "markdown",
   "metadata": {
    "id": "rHLISW9Z5NVF"
   },
   "source": [
    "**Part A**"
   ]
  },
  {
   "cell_type": "code",
   "execution_count": 71,
   "metadata": {
    "id": "Lg1EWc4gBF7a"
   },
   "outputs": [],
   "source": [
    "#File paths\n",
    "group1 = \"Group1.txt\"\n",
    "group2 = \"Group2.txt\"\n",
    "group3 = \"Group3.txt\"\n",
    "group4 = \"Group4.txt\"\n",
    "group5 = \"Group5.txt\""
   ]
  },
  {
   "cell_type": "markdown",
   "metadata": {
    "id": "BJrP3U9a5ZPl"
   },
   "source": [
    "01) Identify the students who belong to both Group 2 and Group 3, but not in Group 5"
   ]
  },
  {
   "cell_type": "code",
   "execution_count": 72,
   "metadata": {
    "id": "3B4rTe071ugl"
   },
   "outputs": [],
   "source": [
    "#Function to identify students in each group\n",
    "def student_list(file_path):\n",
    "    with open(file_path, 'r') as file:\n",
    "        group = file.read()  #Reading student names from a doc\n",
    "        students = set([name.strip() for name in group.split(\",\")]) #Split by commas\n",
    "    return students"
   ]
  },
  {
   "cell_type": "code",
   "execution_count": 73,
   "metadata": {
    "id": "a-PK98eIBiKH"
   },
   "outputs": [],
   "source": [
    "#Student list for each group\n",
    "group2_students = student_list(group2)\n",
    "group3_students = student_list(group3)\n",
    "group5_students = student_list(group5)"
   ]
  },
  {
   "cell_type": "code",
   "execution_count": 74,
   "metadata": {
    "colab": {
     "base_uri": "https://localhost:8080/"
    },
    "id": "2yU9ZTIpBzQo",
    "outputId": "a3739ce8-47a5-4622-80fe-0db20d5eb3ae"
   },
   "outputs": [
    {
     "name": "stdout",
     "output_type": "stream",
     "text": [
      "{'Peter'}\n"
     ]
    }
   ],
   "source": [
    "grp_2_3_not_5 = (group2_students & group3_students) - group5_students\n",
    "print(grp_2_3_not_5)"
   ]
  },
  {
   "cell_type": "markdown",
   "metadata": {
    "id": "kac4u96D5bWo"
   },
   "source": [
    "02) Identify the students who belong to both Group 1 and Group 4, but not in Group 5"
   ]
  },
  {
   "cell_type": "code",
   "execution_count": 75,
   "metadata": {
    "id": "zD5tGAEo5eIB"
   },
   "outputs": [],
   "source": [
    "group1_students = student_list(group1)\n",
    "group4_students = student_list(group4)"
   ]
  },
  {
   "cell_type": "code",
   "execution_count": 76,
   "metadata": {
    "colab": {
     "base_uri": "https://localhost:8080/"
    },
    "id": "mWqcvc3jCuy7",
    "outputId": "3fdfe575-b075-46bb-dbdd-1fb6e200e816"
   },
   "outputs": [
    {
     "name": "stdout",
     "output_type": "stream",
     "text": [
      "{'Ursula', 'George', 'Yvonne'}\n"
     ]
    }
   ],
   "source": [
    "grp_1_4_not_5 = (group1_students & group4_students) - group5_students\n",
    "print(grp_1_4_not_5)"
   ]
  },
  {
   "cell_type": "markdown",
   "metadata": {
    "id": "p8UuRnoY5eXJ"
   },
   "source": [
    "03) Combine the lists of students from the two tasks above to form a new group"
   ]
  },
  {
   "cell_type": "code",
   "execution_count": 77,
   "metadata": {
    "colab": {
     "base_uri": "https://localhost:8080/"
    },
    "id": "uOTBf7mT5jqk",
    "outputId": "d7b85514-e5aa-457a-8988-5364f8c372e6"
   },
   "outputs": [
    {
     "data": {
      "text/plain": [
       "{'George', 'Peter', 'Ursula', 'Yvonne'}"
      ]
     },
     "execution_count": 77,
     "metadata": {},
     "output_type": "execute_result"
    }
   ],
   "source": [
    "groupH_students = grp_2_3_not_5.union(grp_1_4_not_5)\n",
    "groupH_students"
   ]
  },
  {
   "cell_type": "markdown",
   "metadata": {
    "id": "Cqx7enwE5n1p"
   },
   "source": [
    "04) Using the inverted index method, find in which competitions are the students from Group H performing."
   ]
  },
  {
   "cell_type": "code",
   "execution_count": 78,
   "metadata": {
    "id": "YsBiWIPp5sdA"
   },
   "outputs": [],
   "source": [
    "from collections import defaultdict\n",
    "import re"
   ]
  },
  {
   "cell_type": "code",
   "execution_count": 79,
   "metadata": {
    "id": "T_RTfcV7BQ88"
   },
   "outputs": [],
   "source": [
    "competition_titles = {\n",
    "    \"Sing.txt\": \"Singing\",\n",
    "    \"Dance.txt\": \"Dancing\",\n",
    "    \"Draw.txt\": \"Drawing\",\n",
    "    \"Drama.txt\": \"Drama\" }"
   ]
  },
  {
   "cell_type": "code",
   "execution_count": 80,
   "metadata": {
    "id": "VQxi7a9yFoE2"
   },
   "outputs": [],
   "source": [
    "#Function to create an inverted index\n",
    "def build_inverted_index(competition_files, competition_titles):\n",
    "    inverted_index = defaultdict(set)\n",
    "    for competition_file in competition_files:\n",
    "        with open(competition_file, 'r') as file:\n",
    "            c = file.read()\n",
    "            names_list = re.findall(r'\\b[A-Z][a-z]*\\b', c)\n",
    "\n",
    "            for name in names_list:\n",
    "                inverted_index[name].add(competition_titles[competition_file])\n",
    "\n",
    "    return inverted_index"
   ]
  },
  {
   "cell_type": "code",
   "execution_count": 81,
   "metadata": {
    "id": "Bm8p4nRMHT5N"
   },
   "outputs": [],
   "source": [
    "#Creating the inverted index\n",
    "competition_files = list(competition_titles.keys())\n",
    "inverted_index = build_inverted_index(competition_files, competition_titles)\n",
    "\n",
    "#Finding which competitions group H is participating in\n",
    "groupH_competitions = defaultdict(set)"
   ]
  },
  {
   "cell_type": "code",
   "execution_count": 82,
   "metadata": {
    "id": "UbgHam1PMZfW"
   },
   "outputs": [],
   "source": [
    "for s in groupH_students:\n",
    "    student = s\n",
    "    if student in inverted_index:\n",
    "        groupH_competitions[student].update(inverted_index[student])"
   ]
  },
  {
   "cell_type": "code",
   "execution_count": 83,
   "metadata": {
    "colab": {
     "base_uri": "https://localhost:8080/"
    },
    "id": "yPqE6tesMa36",
    "outputId": "746c93a9-3019-4e7f-bb0a-984fe40f61b9"
   },
   "outputs": [
    {
     "name": "stdout",
     "output_type": "stream",
     "text": [
      "Peter is participating in: Drawing, Drama, Singing\n"
     ]
    }
   ],
   "source": [
    "for student, competitions_ in groupH_competitions.items():\n",
    "    print(f\"{student} is participating in: {', '.join(competitions_)}\")"
   ]
  },
  {
   "cell_type": "markdown",
   "metadata": {
    "id": "UMdCK1F75s0j"
   },
   "source": [
    "05) Identify the competitions in which, the Group H students are not performing and find the proper nouns in that competition description using POS in NLTK in Python. In POS the proper nouns are represented by NNP."
   ]
  },
  {
   "cell_type": "code",
   "execution_count": 84,
   "metadata": {
    "id": "Cp_bfkzL5ytK"
   },
   "outputs": [],
   "source": [
    "import nltk\n",
    "from nltk import pos_tag, word_tokenize"
   ]
  },
  {
   "cell_type": "code",
   "execution_count": 85,
   "metadata": {
    "colab": {
     "base_uri": "https://localhost:8080/"
    },
    "id": "fAR40ZiFM0gE",
    "outputId": "a7c87f0e-a95d-4060-ed56-e013c1a1b158"
   },
   "outputs": [
    {
     "name": "stderr",
     "output_type": "stream",
     "text": [
      "[nltk_data] Downloading package punkt to /root/nltk_data...\n",
      "[nltk_data]   Package punkt is already up-to-date!\n",
      "[nltk_data] Downloading package averaged_perceptron_tagger to\n",
      "[nltk_data]     /root/nltk_data...\n",
      "[nltk_data]   Package averaged_perceptron_tagger is already up-to-\n",
      "[nltk_data]       date!\n"
     ]
    },
    {
     "data": {
      "text/plain": [
       "True"
      ]
     },
     "execution_count": 85,
     "metadata": {},
     "output_type": "execute_result"
    }
   ],
   "source": [
    "nltk.download('punkt')\n",
    "nltk.download('averaged_perceptron_tagger')"
   ]
  },
  {
   "cell_type": "code",
   "execution_count": 86,
   "metadata": {
    "id": "Blon4DHyM7qt"
   },
   "outputs": [],
   "source": [
    "#Function to identify proper nouns\n",
    "def identify_proper_nouns(text):\n",
    "    tokens = word_tokenize(text)\n",
    "    pos_tags = pos_tag(tokens)\n",
    "    proper_nouns_found = [word for word, tag in pos_tags if tag == 'NNP']\n",
    "    return proper_nouns_found"
   ]
  },
  {
   "cell_type": "code",
   "execution_count": 87,
   "metadata": {
    "id": "tmVEIs47OJ-5"
   },
   "outputs": [],
   "source": [
    "all_competitions = set(competition_titles.values())"
   ]
  },
  {
   "cell_type": "code",
   "execution_count": 88,
   "metadata": {
    "colab": {
     "base_uri": "https://localhost:8080/"
    },
    "id": "SuMws8b5JiWZ",
    "outputId": "93a2a6fa-a122-46db-b737-da2a84c6e462"
   },
   "outputs": [
    {
     "data": {
      "text/plain": [
       "{'Dancing'}"
      ]
     },
     "execution_count": 88,
     "metadata": {},
     "output_type": "execute_result"
    }
   ],
   "source": [
    "#Identifying competitions in which Group H is NOT performing\n",
    "competitions_groupH_perform_in = set()\n",
    "for competitions in groupH_competitions.values():\n",
    "    competitions_groupH_perform_in.update(competitions)\n",
    "\n",
    "competitions_groupH_not_in = all_competitions - competitions_groupH_perform_in\n",
    "competitions_groupH_not_in"
   ]
  },
  {
   "cell_type": "code",
   "execution_count": 90,
   "metadata": {
    "colab": {
     "base_uri": "https://localhost:8080/"
    },
    "id": "L4VqfioUOqzp",
    "outputId": "fe07b105-3c9a-465e-dbc8-212e7c96d603"
   },
   "outputs": [
    {
     "name": "stdout",
     "output_type": "stream",
     "text": [
      "Proper nouns in Dancing competition content:\n",
      "['Sam', 'Jane', 'Kane', 'David', 'Patrick']\n",
      "\n"
     ]
    }
   ],
   "source": [
    "#Extract proper nouns from the descriptions of non-performing competitions\n",
    "for competition_file, competition_name in competition_titles.items():\n",
    "    if competition_name in competitions_groupH_not_in:\n",
    "        with open(competition_file, 'r') as file:\n",
    "            content = file.read()\n",
    "            pr_nouns = identify_proper_nouns(content)\n",
    "            print(f\"Proper nouns in {competition_name} competition content:\")\n",
    "            print(pr_nouns)\n",
    "            print()"
   ]
  },
  {
   "cell_type": "code",
   "execution_count": null,
   "metadata": {
    "id": "6yWC2q-zCUgA"
   },
   "outputs": [],
   "source": []
  }
 ],
 "metadata": {
  "colab": {
   "provenance": []
  },
  "kernelspec": {
   "display_name": "Python 3 (ipykernel)",
   "language": "python",
   "name": "python3"
  },
  "language_info": {
   "codemirror_mode": {
    "name": "ipython",
    "version": 3
   },
   "file_extension": ".py",
   "mimetype": "text/x-python",
   "name": "python",
   "nbconvert_exporter": "python",
   "pygments_lexer": "ipython3",
   "version": "3.12.4"
  }
 },
 "nbformat": 4,
 "nbformat_minor": 4
}
