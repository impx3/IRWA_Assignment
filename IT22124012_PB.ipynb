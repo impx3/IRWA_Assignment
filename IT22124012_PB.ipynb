{
 "cells": [
  {
   "cell_type": "markdown",
   "metadata": {
    "id": "zW21nX6W52MO"
   },
   "source": [
    "**Part B**"
   ]
  },
  {
   "cell_type": "markdown",
   "metadata": {
    "id": "ibPokHiH553C"
   },
   "source": [
    "01) Create a game called the Quote Master, where the user needs to write a similar quote for a randomly given quote by the computer."
   ]
  },
  {
   "cell_type": "code",
   "execution_count": 22,
   "metadata": {
    "colab": {
     "base_uri": "https://localhost:8080/"
    },
    "id": "Ys8-WsZ-1tix",
    "outputId": "eef38cb1-0fd7-4211-c651-d2f21073cee6"
   },
   "outputs": [
    {
     "name": "stdout",
     "output_type": "stream",
     "text": [
      "Requirement already satisfied: scikit-learn in /usr/local/lib/python3.10/dist-packages (1.5.2)\n",
      "Requirement already satisfied: numpy in /usr/local/lib/python3.10/dist-packages (1.26.4)\n",
      "Requirement already satisfied: scipy>=1.6.0 in /usr/local/lib/python3.10/dist-packages (from scikit-learn) (1.13.1)\n",
      "Requirement already satisfied: joblib>=1.2.0 in /usr/local/lib/python3.10/dist-packages (from scikit-learn) (1.4.2)\n",
      "Requirement already satisfied: threadpoolctl>=3.1.0 in /usr/local/lib/python3.10/dist-packages (from scikit-learn) (3.5.0)\n"
     ]
    }
   ],
   "source": [
    "#Installing necessary libraries\n",
    "!pip install scikit-learn numpy\n",
    "import random\n",
    "from sklearn.feature_extraction.text import TfidfVectorizer\n",
    "from sklearn.metrics.pairwise import cosine_similarity"
   ]
  },
  {
   "cell_type": "code",
   "execution_count": 23,
   "metadata": {
    "id": "-v8UiI7jPirr"
   },
   "outputs": [],
   "source": [
    "computer_quotes = [\n",
    "    \"Dream big and work hard\",\n",
    "    \"Love deeply and worry less\",\n",
    "    \"Stay positive and stay focused\"\n",
    "]"
   ]
  },
  {
   "cell_type": "code",
   "execution_count": 24,
   "metadata": {
    "id": "NRK6iNIlPu9P"
   },
   "outputs": [],
   "source": [
    "#Function to play the game\n",
    "def quote_master():\n",
    "    given_quote = random.choice(computer_quotes) #Selecting a random quote\n",
    "    print(\"Your quote is:\")\n",
    "    print(given_quote)\n",
    "\n",
    "    #Getting user's input\n",
    "    user_input_quote = input(\"Please create a similar quote: \")\n",
    "\n",
    "    #Computing the similarity\n",
    "    docs = [given_quote, user_input_quote]\n",
    "    tfidf_vectorizer = TfidfVectorizer()\n",
    "    tfidf_matrix = tfidf_vectorizer.fit_transform(docs)\n",
    "\n",
    "    #Computing cosine similarity\n",
    "    similarity_matrix = cosine_similarity(tfidf_matrix[0:1], tfidf_matrix[1:2])\n",
    "    similarity_score = similarity_matrix[0][0]\n",
    "\n",
    "    #Checking if the user wins or lose\n",
    "    if similarity_score > 0.5:\n",
    "        print(f\"You won! Your quote is very similar to mine!  (Similarity Score: {similarity_score:.2f})\")\n",
    "    else:\n",
    "        print(f\"Not similar enough. You lose! (Similarity Score: {similarity_score:.2f})\")"
   ]
  },
  {
   "cell_type": "code",
   "execution_count": 25,
   "metadata": {
    "colab": {
     "base_uri": "https://localhost:8080/"
    },
    "id": "n4PR-LQ5Q9X_",
    "outputId": "964b4ffb-cc35-41e8-84b8-68d46fb8c6e0"
   },
   "outputs": [
    {
     "name": "stdout",
     "output_type": "stream",
     "text": [
      "Your quote is:\n",
      "Dream big and work hard\n",
      "Please create a similar quote: dream big and\n",
      "You won! Your quote is very similar to mine!  (Similarity Score: 0.66)\n"
     ]
    }
   ],
   "source": [
    "quote_master()"
   ]
  },
  {
   "cell_type": "markdown",
   "metadata": {
    "id": "CeIq6qet6Kqh"
   },
   "source": [
    "02) Extend the above game such that the user must input a similar quote within 15 seconds."
   ]
  },
  {
   "cell_type": "code",
   "execution_count": 26,
   "metadata": {
    "id": "RLF50P6E6MAC"
   },
   "outputs": [],
   "source": [
    "import time"
   ]
  },
  {
   "cell_type": "code",
   "execution_count": 27,
   "metadata": {
    "id": "9vD7MTApRLeR"
   },
   "outputs": [],
   "source": [
    "#Function to play the game\n",
    "def quote_master():\n",
    "    remaining_time = 15\n",
    "    given_quote = random.choice(computer_quotes) #Selecting a random quote\n",
    "    print(\"Your quote is:\")\n",
    "    print(given_quote)\n",
    "\n",
    "    #Starting the timer\n",
    "    game_starting_time = time.time()\n",
    "\n",
    "    #Getting user's input\n",
    "    user_input_quote = input(\"Please create a similar quote. You only have 15 seconds! : \")\n",
    "\n",
    "    #Checking if the time limit has exceeded\n",
    "    extra_time = time.time() - game_starting_time\n",
    "    remaining_time -=extra_time\n",
    "\n",
    "    if extra_time > 15:\n",
    "        print(\"Time's up! You lose!\")\n",
    "        return\n",
    "\n",
    "    #Computing the similarity\n",
    "    docs = [given_quote, user_input_quote]\n",
    "    tfidf_vectorizer = TfidfVectorizer()\n",
    "    tfidf_matrix = tfidf_vectorizer.fit_transform(docs)\n",
    "\n",
    "    #Computing cosine similarity\n",
    "    similarity_matrix = cosine_similarity(tfidf_matrix[0:1], tfidf_matrix[1:2])\n",
    "    similarity_score = similarity_matrix[0][0]\n",
    "\n",
    "    #Checking if the user wins or lose\n",
    "    if similarity_score > 0.5:\n",
    "        print(f\"You won! Your quote is very similar to mine!  (Similarity Score: {similarity_score:.2f})\")\n",
    "        return\n",
    "    else:\n",
    "        print(f\"Your quote is not similar enough. Try again! (Similarity Score: {similarity_score:.2f})\")\n",
    "        print(f\"You have {remaining_time:.2f} seconds left. Hurry up!\")\n",
    "\n",
    "        #Giving a new quote if the user has more remaining time\n",
    "        if remaining_time > 0:\n",
    "            round2_quote = random.choice(computer_quotes)\n",
    "            print(\"Your new quote is:\")\n",
    "            print(round2_quote)\n",
    "\n",
    "            #Getting user's quote for the round 2 quote\n",
    "            round2_starting_time = time.time()\n",
    "            user_input_quote2 = input(\"Create a similar quote: \")\n",
    "\n",
    "            round2_extra_time = time.time() - round2_starting_time\n",
    "            remaining_time -=round2_extra_time\n",
    "\n",
    "            #Checking if the time limit has been exceeded for the second quote\n",
    "            if remaining_time <=0:\n",
    "              print(\"Time's up!!\")\n",
    "              return\n",
    "\n",
    "            #Computing the similarity\n",
    "            docs = [round2_quote, user_input_quote2]\n",
    "            tfidf_matrix = tfidf_vectorizer.fit_transform(docs)\n",
    "            similarity_matrix = cosine_similarity(tfidf_matrix[0:1], tfidf_matrix[1:2])\n",
    "            similarity_score = similarity_matrix[0][0]\n",
    "\n",
    "            #Checking if the user wins or lose again\n",
    "            if similarity_score > 0.5:\n",
    "                print(f\"You won! Your quote is very similar to mine!  (Similarity Score: {similarity_score:.2f})\")\n",
    "                return\n",
    "            else:\n",
    "                print(f\"Not similar enough!! (Similarity Score: {similarity_score:.2f})\")"
   ]
  },
  {
   "cell_type": "code",
   "execution_count": 31,
   "metadata": {
    "colab": {
     "base_uri": "https://localhost:8080/"
    },
    "id": "8mJoXu10hlpC",
    "outputId": "ad463c23-dbd7-4eec-a340-cc7d9e4d3388"
   },
   "outputs": [
    {
     "name": "stdout",
     "output_type": "stream",
     "text": [
      "Your quote is:\n",
      "Dream big and work hard\n",
      "Please create a similar quote. You only have 15 seconds! : dream sleep\n",
      "Your quote is not similar enough. Try again! (Similarity Score: 0.19)\n",
      "You have 6.29 seconds left. Hurry up!\n",
      "Your new quote is:\n",
      "Dream big and work hard\n",
      "Create a similar quote: work slow\n",
      "Not similar enough!! (Similarity Score: 0.19)\n"
     ]
    }
   ],
   "source": [
    "quote_master()"
   ]
  }
 ],
 "metadata": {
  "colab": {
   "provenance": []
  },
  "kernelspec": {
   "display_name": "Python 3 (ipykernel)",
   "language": "python",
   "name": "python3"
  },
  "language_info": {
   "codemirror_mode": {
    "name": "ipython",
    "version": 3
   },
   "file_extension": ".py",
   "mimetype": "text/x-python",
   "name": "python",
   "nbconvert_exporter": "python",
   "pygments_lexer": "ipython3",
   "version": "3.12.4"
  }
 },
 "nbformat": 4,
 "nbformat_minor": 4
}
